{
 "cells": [
  {
   "cell_type": "markdown",
   "id": "26145a46",
   "metadata": {},
   "source": [
    "### Exploring the NYC Airbnb Market "
   ]
  },
  {
   "cell_type": "code",
   "execution_count": 1,
   "id": "50cad512",
   "metadata": {},
   "outputs": [],
   "source": [
    "import pandas as pd"
   ]
  },
  {
   "cell_type": "markdown",
   "id": "17a6ee5f",
   "metadata": {},
   "source": [
    "##### Step 1: Ingesting data"
   ]
  },
  {
   "cell_type": "code",
   "execution_count": 2,
   "id": "d1e75445",
   "metadata": {},
   "outputs": [],
   "source": [
    "# Load the datasets\n",
    "df_price = pd.read_csv('data/airbnb_price.csv')\n",
    "df_room_type = pd.read_excel('data/airbnb_room_type.xlsx')\n",
    "df_last_review = pd.read_csv('data/airbnb_last_review.tsv', sep='\\t')"
   ]
  },
  {
   "cell_type": "markdown",
   "id": "8de41f0b",
   "metadata": {},
   "source": [
    "##### Step 2: Combining data"
   ]
  },
  {
   "cell_type": "code",
   "execution_count": 3,
   "id": "602e5d3d",
   "metadata": {},
   "outputs": [
    {
     "data": {
      "text/html": [
       "<div>\n",
       "<style scoped>\n",
       "    .dataframe tbody tr th:only-of-type {\n",
       "        vertical-align: middle;\n",
       "    }\n",
       "\n",
       "    .dataframe tbody tr th {\n",
       "        vertical-align: top;\n",
       "    }\n",
       "\n",
       "    .dataframe thead th {\n",
       "        text-align: right;\n",
       "    }\n",
       "</style>\n",
       "<table border=\"1\" class=\"dataframe\">\n",
       "  <thead>\n",
       "    <tr style=\"text-align: right;\">\n",
       "      <th></th>\n",
       "      <th>listing_id</th>\n",
       "      <th>price</th>\n",
       "      <th>nbhood_full</th>\n",
       "      <th>description</th>\n",
       "      <th>room_type</th>\n",
       "      <th>host_name</th>\n",
       "      <th>last_review</th>\n",
       "    </tr>\n",
       "  </thead>\n",
       "  <tbody>\n",
       "    <tr>\n",
       "      <th>0</th>\n",
       "      <td>2595</td>\n",
       "      <td>225 dollars</td>\n",
       "      <td>Manhattan, Midtown</td>\n",
       "      <td>Skylit Midtown Castle</td>\n",
       "      <td>Entire home/apt</td>\n",
       "      <td>Jennifer</td>\n",
       "      <td>May 21 2019</td>\n",
       "    </tr>\n",
       "    <tr>\n",
       "      <th>1</th>\n",
       "      <td>3831</td>\n",
       "      <td>89 dollars</td>\n",
       "      <td>Brooklyn, Clinton Hill</td>\n",
       "      <td>Cozy Entire Floor of Brownstone</td>\n",
       "      <td>Entire home/apt</td>\n",
       "      <td>LisaRoxanne</td>\n",
       "      <td>July 05 2019</td>\n",
       "    </tr>\n",
       "    <tr>\n",
       "      <th>2</th>\n",
       "      <td>5099</td>\n",
       "      <td>200 dollars</td>\n",
       "      <td>Manhattan, Murray Hill</td>\n",
       "      <td>Large Cozy 1 BR Apartment In Midtown East</td>\n",
       "      <td>Entire home/apt</td>\n",
       "      <td>Chris</td>\n",
       "      <td>June 22 2019</td>\n",
       "    </tr>\n",
       "    <tr>\n",
       "      <th>3</th>\n",
       "      <td>5178</td>\n",
       "      <td>79 dollars</td>\n",
       "      <td>Manhattan, Hell's Kitchen</td>\n",
       "      <td>Large Furnished Room Near B'way</td>\n",
       "      <td>private room</td>\n",
       "      <td>Shunichi</td>\n",
       "      <td>June 24 2019</td>\n",
       "    </tr>\n",
       "    <tr>\n",
       "      <th>4</th>\n",
       "      <td>5238</td>\n",
       "      <td>150 dollars</td>\n",
       "      <td>Manhattan, Chinatown</td>\n",
       "      <td>Cute &amp; Cozy Lower East Side 1 bdrm</td>\n",
       "      <td>Entire home/apt</td>\n",
       "      <td>Ben</td>\n",
       "      <td>June 09 2019</td>\n",
       "    </tr>\n",
       "  </tbody>\n",
       "</table>\n",
       "</div>"
      ],
      "text/plain": [
       "   listing_id        price                nbhood_full  \\\n",
       "0        2595  225 dollars         Manhattan, Midtown   \n",
       "1        3831   89 dollars     Brooklyn, Clinton Hill   \n",
       "2        5099  200 dollars     Manhattan, Murray Hill   \n",
       "3        5178   79 dollars  Manhattan, Hell's Kitchen   \n",
       "4        5238  150 dollars       Manhattan, Chinatown   \n",
       "\n",
       "                                 description        room_type    host_name  \\\n",
       "0                      Skylit Midtown Castle  Entire home/apt     Jennifer   \n",
       "1            Cozy Entire Floor of Brownstone  Entire home/apt  LisaRoxanne   \n",
       "2  Large Cozy 1 BR Apartment In Midtown East  Entire home/apt        Chris   \n",
       "3            Large Furnished Room Near B'way     private room     Shunichi   \n",
       "4         Cute & Cozy Lower East Side 1 bdrm  Entire home/apt          Ben   \n",
       "\n",
       "    last_review  \n",
       "0   May 21 2019  \n",
       "1  July 05 2019  \n",
       "2  June 22 2019  \n",
       "3  June 24 2019  \n",
       "4  June 09 2019  "
      ]
     },
     "execution_count": 3,
     "metadata": {},
     "output_type": "execute_result"
    }
   ],
   "source": [
    "# Merge the dataframes\n",
    "df_combined = pd.merge(df_price, df_room_type, on='listing_id', how='inner')\n",
    "df_combined = pd.merge(df_combined, df_last_review, on='listing_id', how='inner')\n",
    "df_combined.head()"
   ]
  },
  {
   "cell_type": "markdown",
   "id": "3fa8db93",
   "metadata": {},
   "source": [
    "##### Step 3: Cleaning data"
   ]
  },
  {
   "cell_type": "code",
   "execution_count": 4,
   "id": "f33cab11",
   "metadata": {},
   "outputs": [
    {
     "data": {
      "text/html": [
       "<div>\n",
       "<style scoped>\n",
       "    .dataframe tbody tr th:only-of-type {\n",
       "        vertical-align: middle;\n",
       "    }\n",
       "\n",
       "    .dataframe tbody tr th {\n",
       "        vertical-align: top;\n",
       "    }\n",
       "\n",
       "    .dataframe thead th {\n",
       "        text-align: right;\n",
       "    }\n",
       "</style>\n",
       "<table border=\"1\" class=\"dataframe\">\n",
       "  <thead>\n",
       "    <tr style=\"text-align: right;\">\n",
       "      <th></th>\n",
       "      <th>listing_id</th>\n",
       "      <th>price</th>\n",
       "      <th>nbhood_full</th>\n",
       "      <th>description</th>\n",
       "      <th>room_type</th>\n",
       "      <th>host_name</th>\n",
       "      <th>last_review</th>\n",
       "    </tr>\n",
       "  </thead>\n",
       "  <tbody>\n",
       "    <tr>\n",
       "      <th>0</th>\n",
       "      <td>2595</td>\n",
       "      <td>225.0</td>\n",
       "      <td>Manhattan, Midtown</td>\n",
       "      <td>Skylit Midtown Castle</td>\n",
       "      <td>Entire home/apt</td>\n",
       "      <td>Jennifer</td>\n",
       "      <td>May 21 2019</td>\n",
       "    </tr>\n",
       "    <tr>\n",
       "      <th>1</th>\n",
       "      <td>3831</td>\n",
       "      <td>89.0</td>\n",
       "      <td>Brooklyn, Clinton Hill</td>\n",
       "      <td>Cozy Entire Floor of Brownstone</td>\n",
       "      <td>Entire home/apt</td>\n",
       "      <td>LisaRoxanne</td>\n",
       "      <td>July 05 2019</td>\n",
       "    </tr>\n",
       "    <tr>\n",
       "      <th>2</th>\n",
       "      <td>5099</td>\n",
       "      <td>200.0</td>\n",
       "      <td>Manhattan, Murray Hill</td>\n",
       "      <td>Large Cozy 1 BR Apartment In Midtown East</td>\n",
       "      <td>Entire home/apt</td>\n",
       "      <td>Chris</td>\n",
       "      <td>June 22 2019</td>\n",
       "    </tr>\n",
       "    <tr>\n",
       "      <th>3</th>\n",
       "      <td>5178</td>\n",
       "      <td>79.0</td>\n",
       "      <td>Manhattan, Hell's Kitchen</td>\n",
       "      <td>Large Furnished Room Near B'way</td>\n",
       "      <td>private room</td>\n",
       "      <td>Shunichi</td>\n",
       "      <td>June 24 2019</td>\n",
       "    </tr>\n",
       "    <tr>\n",
       "      <th>4</th>\n",
       "      <td>5238</td>\n",
       "      <td>150.0</td>\n",
       "      <td>Manhattan, Chinatown</td>\n",
       "      <td>Cute &amp; Cozy Lower East Side 1 bdrm</td>\n",
       "      <td>Entire home/apt</td>\n",
       "      <td>Ben</td>\n",
       "      <td>June 09 2019</td>\n",
       "    </tr>\n",
       "  </tbody>\n",
       "</table>\n",
       "</div>"
      ],
      "text/plain": [
       "   listing_id  price                nbhood_full  \\\n",
       "0        2595  225.0         Manhattan, Midtown   \n",
       "1        3831   89.0     Brooklyn, Clinton Hill   \n",
       "2        5099  200.0     Manhattan, Murray Hill   \n",
       "3        5178   79.0  Manhattan, Hell's Kitchen   \n",
       "4        5238  150.0       Manhattan, Chinatown   \n",
       "\n",
       "                                 description        room_type    host_name  \\\n",
       "0                      Skylit Midtown Castle  Entire home/apt     Jennifer   \n",
       "1            Cozy Entire Floor of Brownstone  Entire home/apt  LisaRoxanne   \n",
       "2  Large Cozy 1 BR Apartment In Midtown East  Entire home/apt        Chris   \n",
       "3            Large Furnished Room Near B'way     private room     Shunichi   \n",
       "4         Cute & Cozy Lower East Side 1 bdrm  Entire home/apt          Ben   \n",
       "\n",
       "    last_review  \n",
       "0   May 21 2019  \n",
       "1  July 05 2019  \n",
       "2  June 22 2019  \n",
       "3  June 24 2019  \n",
       "4  June 09 2019  "
      ]
     },
     "execution_count": 4,
     "metadata": {},
     "output_type": "execute_result"
    }
   ],
   "source": [
    "# Convert 'price' to numeric and format as float\n",
    "df_combined['price']= df_combined['price'].str.replace('dollars', '').astype(float)\n",
    "df_combined.head()"
   ]
  },
  {
   "cell_type": "code",
   "execution_count": 5,
   "id": "e96e9e5d",
   "metadata": {},
   "outputs": [
    {
     "name": "stdout",
     "output_type": "stream",
     "text": [
      "<class 'pandas.core.frame.DataFrame'>\n",
      "RangeIndex: 25209 entries, 0 to 25208\n",
      "Data columns (total 7 columns):\n",
      " #   Column       Non-Null Count  Dtype  \n",
      "---  ------       --------------  -----  \n",
      " 0   listing_id   25209 non-null  int64  \n",
      " 1   price        25209 non-null  float64\n",
      " 2   nbhood_full  25209 non-null  object \n",
      " 3   description  25199 non-null  object \n",
      " 4   room_type    25209 non-null  object \n",
      " 5   host_name    25201 non-null  object \n",
      " 6   last_review  25209 non-null  object \n",
      "dtypes: float64(1), int64(1), object(5)\n",
      "memory usage: 1.3+ MB\n"
     ]
    }
   ],
   "source": [
    "# Print the info of the combined dataframe to check data types and also identify missing values\n",
    "df_combined.info()"
   ]
  },
  {
   "cell_type": "code",
   "execution_count": 6,
   "id": "de6badf0",
   "metadata": {},
   "outputs": [
    {
     "data": {
      "text/html": [
       "<div>\n",
       "<style scoped>\n",
       "    .dataframe tbody tr th:only-of-type {\n",
       "        vertical-align: middle;\n",
       "    }\n",
       "\n",
       "    .dataframe tbody tr th {\n",
       "        vertical-align: top;\n",
       "    }\n",
       "\n",
       "    .dataframe thead th {\n",
       "        text-align: right;\n",
       "    }\n",
       "</style>\n",
       "<table border=\"1\" class=\"dataframe\">\n",
       "  <thead>\n",
       "    <tr style=\"text-align: right;\">\n",
       "      <th></th>\n",
       "      <th>listing_id</th>\n",
       "      <th>price</th>\n",
       "      <th>nbhood_full</th>\n",
       "      <th>description</th>\n",
       "      <th>room_type</th>\n",
       "      <th>host_name</th>\n",
       "      <th>last_review</th>\n",
       "    </tr>\n",
       "  </thead>\n",
       "  <tbody>\n",
       "    <tr>\n",
       "      <th>4688</th>\n",
       "      <td>7851219</td>\n",
       "      <td>60.0</td>\n",
       "      <td>Brooklyn, Williamsburg</td>\n",
       "      <td>NaN</td>\n",
       "      <td>PRIVATE ROOM</td>\n",
       "      <td>John</td>\n",
       "      <td>June 18 2019</td>\n",
       "    </tr>\n",
       "    <tr>\n",
       "      <th>4690</th>\n",
       "      <td>7854307</td>\n",
       "      <td>60.0</td>\n",
       "      <td>Brooklyn, Williamsburg</td>\n",
       "      <td>NaN</td>\n",
       "      <td>private room</td>\n",
       "      <td>John</td>\n",
       "      <td>June 15 2019</td>\n",
       "    </tr>\n",
       "    <tr>\n",
       "      <th>4696</th>\n",
       "      <td>7858673</td>\n",
       "      <td>60.0</td>\n",
       "      <td>Brooklyn, Williamsburg</td>\n",
       "      <td>NaN</td>\n",
       "      <td>Private room</td>\n",
       "      <td>John</td>\n",
       "      <td>June 08 2019</td>\n",
       "    </tr>\n",
       "    <tr>\n",
       "      <th>4707</th>\n",
       "      <td>7873655</td>\n",
       "      <td>60.0</td>\n",
       "      <td>Brooklyn, Williamsburg</td>\n",
       "      <td>NaN</td>\n",
       "      <td>PRIVATE ROOM</td>\n",
       "      <td>John</td>\n",
       "      <td>June 21 2019</td>\n",
       "    </tr>\n",
       "    <tr>\n",
       "      <th>4709</th>\n",
       "      <td>7886635</td>\n",
       "      <td>60.0</td>\n",
       "      <td>Brooklyn, Williamsburg</td>\n",
       "      <td>NaN</td>\n",
       "      <td>Private room</td>\n",
       "      <td>John</td>\n",
       "      <td>June 18 2019</td>\n",
       "    </tr>\n",
       "    <tr>\n",
       "      <th>4717</th>\n",
       "      <td>7901635</td>\n",
       "      <td>60.0</td>\n",
       "      <td>Brooklyn, Williamsburg</td>\n",
       "      <td>NaN</td>\n",
       "      <td>Private room</td>\n",
       "      <td>John</td>\n",
       "      <td>June 23 2019</td>\n",
       "    </tr>\n",
       "    <tr>\n",
       "      <th>4829</th>\n",
       "      <td>8192443</td>\n",
       "      <td>60.0</td>\n",
       "      <td>Brooklyn, Williamsburg</td>\n",
       "      <td>NaN</td>\n",
       "      <td>private room</td>\n",
       "      <td>John</td>\n",
       "      <td>June 23 2019</td>\n",
       "    </tr>\n",
       "    <tr>\n",
       "      <th>4901</th>\n",
       "      <td>8341556</td>\n",
       "      <td>55.0</td>\n",
       "      <td>Manhattan, Harlem</td>\n",
       "      <td>NaN</td>\n",
       "      <td>Private room</td>\n",
       "      <td>Gordon M</td>\n",
       "      <td>May 26 2019</td>\n",
       "    </tr>\n",
       "    <tr>\n",
       "      <th>5496</th>\n",
       "      <td>9698992</td>\n",
       "      <td>62.0</td>\n",
       "      <td>Manhattan, Harlem</td>\n",
       "      <td>NaN</td>\n",
       "      <td>private room</td>\n",
       "      <td>Gordon M</td>\n",
       "      <td>June 14 2019</td>\n",
       "    </tr>\n",
       "    <tr>\n",
       "      <th>11986</th>\n",
       "      <td>21733545</td>\n",
       "      <td>175.0</td>\n",
       "      <td>Manhattan, Hell's Kitchen</td>\n",
       "      <td>NaN</td>\n",
       "      <td>Private room</td>\n",
       "      <td>Sybilla Michelle</td>\n",
       "      <td>June 30 2019</td>\n",
       "    </tr>\n",
       "  </tbody>\n",
       "</table>\n",
       "</div>"
      ],
      "text/plain": [
       "       listing_id  price                nbhood_full description     room_type  \\\n",
       "4688      7851219   60.0     Brooklyn, Williamsburg         NaN  PRIVATE ROOM   \n",
       "4690      7854307   60.0     Brooklyn, Williamsburg         NaN  private room   \n",
       "4696      7858673   60.0     Brooklyn, Williamsburg         NaN  Private room   \n",
       "4707      7873655   60.0     Brooklyn, Williamsburg         NaN  PRIVATE ROOM   \n",
       "4709      7886635   60.0     Brooklyn, Williamsburg         NaN  Private room   \n",
       "4717      7901635   60.0     Brooklyn, Williamsburg         NaN  Private room   \n",
       "4829      8192443   60.0     Brooklyn, Williamsburg         NaN  private room   \n",
       "4901      8341556   55.0          Manhattan, Harlem         NaN  Private room   \n",
       "5496      9698992   62.0          Manhattan, Harlem         NaN  private room   \n",
       "11986    21733545  175.0  Manhattan, Hell's Kitchen         NaN  Private room   \n",
       "\n",
       "              host_name   last_review  \n",
       "4688               John  June 18 2019  \n",
       "4690               John  June 15 2019  \n",
       "4696               John  June 08 2019  \n",
       "4707               John  June 21 2019  \n",
       "4709               John  June 18 2019  \n",
       "4717               John  June 23 2019  \n",
       "4829               John  June 23 2019  \n",
       "4901           Gordon M   May 26 2019  \n",
       "5496           Gordon M  June 14 2019  \n",
       "11986  Sybilla Michelle  June 30 2019  "
      ]
     },
     "execution_count": 6,
     "metadata": {},
     "output_type": "execute_result"
    }
   ],
   "source": [
    "# There's missing values in the description column, identify rows\n",
    "df_combined[df_combined['description'].isna()]\n"
   ]
  },
  {
   "cell_type": "code",
   "execution_count": 10,
   "id": "7e36f803",
   "metadata": {},
   "outputs": [],
   "source": [
    "# Fill the missing values in the description column with a text\n",
    "df_combined['description'] = df_combined['description'].fillna('Cozy Secure Private Room  in A Shared Loft')"
   ]
  },
  {
   "cell_type": "code",
   "execution_count": 11,
   "id": "7de5f33a",
   "metadata": {},
   "outputs": [],
   "source": [
    "# Fill the missing values in the 'host_name' column also with a placeholder text\n",
    "df_combined['host_name'] = df_combined['host_name'].fillna('Unknown Host')"
   ]
  },
  {
   "cell_type": "code",
   "execution_count": 14,
   "id": "79d1b336",
   "metadata": {},
   "outputs": [
    {
     "data": {
      "text/html": [
       "<div>\n",
       "<style scoped>\n",
       "    .dataframe tbody tr th:only-of-type {\n",
       "        vertical-align: middle;\n",
       "    }\n",
       "\n",
       "    .dataframe tbody tr th {\n",
       "        vertical-align: top;\n",
       "    }\n",
       "\n",
       "    .dataframe thead th {\n",
       "        text-align: right;\n",
       "    }\n",
       "</style>\n",
       "<table border=\"1\" class=\"dataframe\">\n",
       "  <thead>\n",
       "    <tr style=\"text-align: right;\">\n",
       "      <th></th>\n",
       "      <th>listing_id</th>\n",
       "      <th>price</th>\n",
       "      <th>nbhood_full</th>\n",
       "      <th>description</th>\n",
       "      <th>room_type</th>\n",
       "      <th>host_name</th>\n",
       "      <th>last_review</th>\n",
       "    </tr>\n",
       "  </thead>\n",
       "  <tbody>\n",
       "    <tr>\n",
       "      <th>0</th>\n",
       "      <td>2595</td>\n",
       "      <td>225.0</td>\n",
       "      <td>Manhattan, Midtown</td>\n",
       "      <td>Skylit Midtown Castle</td>\n",
       "      <td>Entire home/apt</td>\n",
       "      <td>Jennifer</td>\n",
       "      <td>May 21 2019</td>\n",
       "    </tr>\n",
       "    <tr>\n",
       "      <th>1</th>\n",
       "      <td>3831</td>\n",
       "      <td>89.0</td>\n",
       "      <td>Brooklyn, Clinton Hill</td>\n",
       "      <td>Cozy Entire Floor of Brownstone</td>\n",
       "      <td>Entire home/apt</td>\n",
       "      <td>LisaRoxanne</td>\n",
       "      <td>July 05 2019</td>\n",
       "    </tr>\n",
       "    <tr>\n",
       "      <th>2</th>\n",
       "      <td>5099</td>\n",
       "      <td>200.0</td>\n",
       "      <td>Manhattan, Murray Hill</td>\n",
       "      <td>Large Cozy 1 BR Apartment In Midtown East</td>\n",
       "      <td>Entire home/apt</td>\n",
       "      <td>Chris</td>\n",
       "      <td>June 22 2019</td>\n",
       "    </tr>\n",
       "    <tr>\n",
       "      <th>3</th>\n",
       "      <td>5178</td>\n",
       "      <td>79.0</td>\n",
       "      <td>Manhattan, Hell's Kitchen</td>\n",
       "      <td>Large Furnished Room Near B'way</td>\n",
       "      <td>private room</td>\n",
       "      <td>Shunichi</td>\n",
       "      <td>June 24 2019</td>\n",
       "    </tr>\n",
       "    <tr>\n",
       "      <th>4</th>\n",
       "      <td>5238</td>\n",
       "      <td>150.0</td>\n",
       "      <td>Manhattan, Chinatown</td>\n",
       "      <td>Cute &amp; Cozy Lower East Side 1 bdrm</td>\n",
       "      <td>Entire home/apt</td>\n",
       "      <td>Ben</td>\n",
       "      <td>June 09 2019</td>\n",
       "    </tr>\n",
       "  </tbody>\n",
       "</table>\n",
       "</div>"
      ],
      "text/plain": [
       "   listing_id  price                nbhood_full  \\\n",
       "0        2595  225.0         Manhattan, Midtown   \n",
       "1        3831   89.0     Brooklyn, Clinton Hill   \n",
       "2        5099  200.0     Manhattan, Murray Hill   \n",
       "3        5178   79.0  Manhattan, Hell's Kitchen   \n",
       "4        5238  150.0       Manhattan, Chinatown   \n",
       "\n",
       "                                 description        room_type    host_name  \\\n",
       "0                      Skylit Midtown Castle  Entire home/apt     Jennifer   \n",
       "1            Cozy Entire Floor of Brownstone  Entire home/apt  LisaRoxanne   \n",
       "2  Large Cozy 1 BR Apartment In Midtown East  Entire home/apt        Chris   \n",
       "3            Large Furnished Room Near B'way     private room     Shunichi   \n",
       "4         Cute & Cozy Lower East Side 1 bdrm  Entire home/apt          Ben   \n",
       "\n",
       "    last_review  \n",
       "0   May 21 2019  \n",
       "1  July 05 2019  \n",
       "2  June 22 2019  \n",
       "3  June 24 2019  \n",
       "4  June 09 2019  "
      ]
     },
     "execution_count": 14,
     "metadata": {},
     "output_type": "execute_result"
    }
   ],
   "source": [
    "df_combined.head()"
   ]
  },
  {
   "cell_type": "code",
   "execution_count": 15,
   "id": "a662efc4",
   "metadata": {},
   "outputs": [
    {
     "data": {
      "text/plain": [
       "array(['Entire home/apt', 'private room', 'Private room',\n",
       "       'entire home/apt', 'PRIVATE ROOM', 'shared room',\n",
       "       'ENTIRE HOME/APT', 'Shared room', 'SHARED ROOM'], dtype=object)"
      ]
     },
     "execution_count": 15,
     "metadata": {},
     "output_type": "execute_result"
    }
   ],
   "source": [
    "df_combined['room_type'].unique()"
   ]
  },
  {
   "cell_type": "code",
   "execution_count": 18,
   "id": "64529fd2",
   "metadata": {},
   "outputs": [],
   "source": [
    "df_combined['room_type'] = df_combined['room_type'].str.lower().str.replace(' ', '_')"
   ]
  },
  {
   "cell_type": "code",
   "execution_count": 21,
   "id": "73268e42",
   "metadata": {},
   "outputs": [],
   "source": [
    "df_combined['host_name'] = df_combined['host_name'].str.title()"
   ]
  },
  {
   "cell_type": "code",
   "execution_count": 22,
   "id": "bd1a429c",
   "metadata": {},
   "outputs": [],
   "source": [
    "# Change data types of 'last_review' to datetime\n",
    "df_combined['last_review'] = pd.to_datetime(df_combined['last_review'], errors='coerce')"
   ]
  },
  {
   "cell_type": "markdown",
   "id": "01ecb94c",
   "metadata": {},
   "source": [
    "##### Step 4: Write the cleaned data into a new csv file"
   ]
  },
  {
   "cell_type": "code",
   "execution_count": 24,
   "id": "4c14bbca",
   "metadata": {},
   "outputs": [],
   "source": [
    "df_combined.to_csv('data/airbnb_cleaned.csv', index=False)"
   ]
  },
  {
   "cell_type": "markdown",
   "id": "70becf3d",
   "metadata": {},
   "source": [
    "##### Step 5: Extract useful information (Exploratory Data Analysis)"
   ]
  },
  {
   "cell_type": "markdown",
   "id": "d73c3324",
   "metadata": {},
   "source": [
    "##### 1. The earliest and latest reviews dates"
   ]
  },
  {
   "cell_type": "code",
   "execution_count": 52,
   "id": "5c727c8d",
   "metadata": {},
   "outputs": [
    {
     "name": "stdout",
     "output_type": "stream",
     "text": [
      "The earliest review date is: 2019-01-01\n",
      "The latest review date is: 2019-07-09\n"
     ]
    }
   ],
   "source": [
    "earliest_review_date = df_combined['last_review'].min().date()\n",
    "print(f\"The earliest review date is: {earliest_review_date}\")\n",
    "\n",
    "latest_review_date = df_combined['last_review'].max().date()\n",
    "print(f\"The latest review date is: {latest_review_date}\")"
   ]
  },
  {
   "cell_type": "markdown",
   "id": "cd281ea5",
   "metadata": {},
   "source": [
    "##### 2.Determining the count of private rooms"
   ]
  },
  {
   "cell_type": "code",
   "execution_count": 61,
   "id": "55432062",
   "metadata": {},
   "outputs": [
    {
     "data": {
      "text/plain": [
       "11356"
      ]
     },
     "execution_count": 61,
     "metadata": {},
     "output_type": "execute_result"
    }
   ],
   "source": [
    "private_room_count = df_combined[df_combined['room_type'] == 'private_room'].shape[0]\n",
    "private_room_count"
   ]
  },
  {
   "cell_type": "markdown",
   "id": "179ad270",
   "metadata": {},
   "source": [
    "##### 3. Determining the average listing price"
   ]
  },
  {
   "cell_type": "code",
   "execution_count": 68,
   "id": "bcdcf85a",
   "metadata": {},
   "outputs": [
    {
     "name": "stdout",
     "output_type": "stream",
     "text": [
      "141.7779364512674\n"
     ]
    }
   ],
   "source": [
    "avg_listing_price = df_combined['price'].mean()\n",
    "print(avg_listing_price)"
   ]
  },
  {
   "cell_type": "markdown",
   "id": "129b9450",
   "metadata": {},
   "source": [
    "##### 4. Creating a new DataFrame with combined data"
   ]
  },
  {
   "cell_type": "code",
   "execution_count": 67,
   "id": "ba4869ef",
   "metadata": {},
   "outputs": [
    {
     "data": {
      "text/html": [
       "<div>\n",
       "<style scoped>\n",
       "    .dataframe tbody tr th:only-of-type {\n",
       "        vertical-align: middle;\n",
       "    }\n",
       "\n",
       "    .dataframe tbody tr th {\n",
       "        vertical-align: top;\n",
       "    }\n",
       "\n",
       "    .dataframe thead th {\n",
       "        text-align: right;\n",
       "    }\n",
       "</style>\n",
       "<table border=\"1\" class=\"dataframe\">\n",
       "  <thead>\n",
       "    <tr style=\"text-align: right;\">\n",
       "      <th></th>\n",
       "      <th>earliest_review_date</th>\n",
       "      <th>latest_review_date</th>\n",
       "      <th>private_room_count</th>\n",
       "      <th>avg_listing_price</th>\n",
       "    </tr>\n",
       "  </thead>\n",
       "  <tbody>\n",
       "    <tr>\n",
       "      <th>0</th>\n",
       "      <td>2019-01-01</td>\n",
       "      <td>2019-07-09</td>\n",
       "      <td>11356</td>\n",
       "      <td>141.777936</td>\n",
       "    </tr>\n",
       "  </tbody>\n",
       "</table>\n",
       "</div>"
      ],
      "text/plain": [
       "  earliest_review_date latest_review_date  private_room_count  \\\n",
       "0           2019-01-01         2019-07-09               11356   \n",
       "\n",
       "   avg_listing_price  \n",
       "0         141.777936  "
      ]
     },
     "execution_count": 67,
     "metadata": {},
     "output_type": "execute_result"
    }
   ],
   "source": [
    "new_df = pd.DataFrame(\n",
    "    {\n",
    "        'earliest_review_date': [earliest_review_date],\n",
    "        'latest_review_date': [latest_review_date],\n",
    "        'private_room_count': [private_room_count],\n",
    "        'avg_listing_price': [avg_listing_price]\n",
    "    }\n",
    "\n",
    ")\n",
    "new_df"
   ]
  }
 ],
 "metadata": {
  "kernelspec": {
   "display_name": "venv",
   "language": "python",
   "name": "python3"
  },
  "language_info": {
   "codemirror_mode": {
    "name": "ipython",
    "version": 3
   },
   "file_extension": ".py",
   "mimetype": "text/x-python",
   "name": "python",
   "nbconvert_exporter": "python",
   "pygments_lexer": "ipython3",
   "version": "3.13.5"
  }
 },
 "nbformat": 4,
 "nbformat_minor": 5
}
